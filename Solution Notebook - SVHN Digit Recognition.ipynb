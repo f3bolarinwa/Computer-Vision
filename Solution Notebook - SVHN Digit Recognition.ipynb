{
 "cells": [
  {
   "cell_type": "markdown",
   "metadata": {
    "id": "Q91KqmCRu64D"
   },
   "source": [
    "# **SVHN Digit Recognition**\n",
    "\n",
    "# **Solution by: 'Femi Bolarinwa**\n",
    "\n",
    "\n",
    "--------------\n",
    "## **Context** \n",
    "--------------\n",
    "\n",
    "One of the most interesting tasks in deep learning is to recognize objects in natural scenes. The ability to process visual information using machine learning algorithms can be very useful as demonstrated in various applications.\n",
    "\n",
    "The SVHN dataset contains over 600,000 labeled digits cropped from street-level photos. It is one of the most popular image recognition datasets. It has been used in neural networks created by Google to improve the map quality by automatically transcribing the address numbers from a patch of pixels. The transcribed number with a known street address helps pinpoint the location of the building it represents.\n",
    "\n",
    "----------------\n",
    "## **Objective**\n",
    "----------------\n",
    "\n",
    "Our objective is to predict the number depicted inside the image by using Artificial or Fully Connected Feed Forward Neural Networks and Convolutional Neural Networks.\n",
    "\n",
    "-------------\n",
    "## **Dataset**\n",
    "-------------\n",
    "Here, I will use a subset of the original data to save some computation time. The dataset is provided as a .h5 file. You should use a subset of the dataset to save computation time. The images are available in a single channel (grayscale) in 32 x 32 pixels."
   ]
  },
  {
   "cell_type": "markdown",
   "metadata": {
    "id": "d0ef2b3c"
   },
   "source": [
    "##**Solution Content Overview**\n",
    "- **Data Importation**\n",
    "- **Libraries importation**\n",
    "- **Visualization of Data**\n",
    "- **Data pre-processing**\n",
    "- **Modelling and Evaluation - ANN**\n",
    "- **Modelling and Evaluation - CNN**\n",
    "- **Conclusion and Insights**"
   ]
  },
  {
   "cell_type": "markdown",
   "metadata": {
    "id": "8z2Z7-OAs8QG"
   },
   "source": [
    "## **Data Importation**\n",
    "\n",
    "I'll start by mounting the Google drive."
   ]
  },
  {
   "cell_type": "code",
   "execution_count": null,
   "metadata": {
    "colab": {
     "base_uri": "https://localhost:8080/"
    },
    "executionInfo": {
     "elapsed": 33113,
     "status": "ok",
     "timestamp": 1683652951632,
     "user": {
      "displayName": "'Femi Bolarinwa",
      "userId": "04861924902875393207"
     },
     "user_tz": 240
    },
    "id": "03lDyQUuef7z",
    "outputId": "541212dc-a9dd-4307-cae0-310414ae9c32"
   },
   "outputs": [
    {
     "name": "stdout",
     "output_type": "stream",
     "text": [
      "Mounted at /content/drive\n"
     ]
    }
   ],
   "source": [
    "from google.colab import drive\n",
    "\n",
    "drive.mount('/content/drive')"
   ]
  },
  {
   "cell_type": "code",
   "execution_count": null,
   "metadata": {
    "colab": {
     "base_uri": "https://localhost:8080/",
     "height": 74
    },
    "executionInfo": {
     "elapsed": 2811464,
     "status": "ok",
     "timestamp": 1683655849389,
     "user": {
      "displayName": "'Femi Bolarinwa",
      "userId": "04861924902875393207"
     },
     "user_tz": 240
    },
    "id": "zj3VgDmziitO",
    "outputId": "e936b7d3-610f-46be-91ff-51a388944c8b"
   },
   "outputs": [
    {
     "data": {
      "text/html": [
       "\n",
       "     <input type=\"file\" id=\"files-8a16afd5-db11-4d1a-a185-0f94833a95b3\" name=\"files[]\" multiple disabled\n",
       "        style=\"border:none\" />\n",
       "     <output id=\"result-8a16afd5-db11-4d1a-a185-0f94833a95b3\">\n",
       "      Upload widget is only available when the cell has been executed in the\n",
       "      current browser session. Please rerun this cell to enable.\n",
       "      </output>\n",
       "      <script>// Copyright 2017 Google LLC\n",
       "//\n",
       "// Licensed under the Apache License, Version 2.0 (the \"License\");\n",
       "// you may not use this file except in compliance with the License.\n",
       "// You may obtain a copy of the License at\n",
       "//\n",
       "//      http://www.apache.org/licenses/LICENSE-2.0\n",
       "//\n",
       "// Unless required by applicable law or agreed to in writing, software\n",
       "// distributed under the License is distributed on an \"AS IS\" BASIS,\n",
       "// WITHOUT WARRANTIES OR CONDITIONS OF ANY KIND, either express or implied.\n",
       "// See the License for the specific language governing permissions and\n",
       "// limitations under the License.\n",
       "\n",
       "/**\n",
       " * @fileoverview Helpers for google.colab Python module.\n",
       " */\n",
       "(function(scope) {\n",
       "function span(text, styleAttributes = {}) {\n",
       "  const element = document.createElement('span');\n",
       "  element.textContent = text;\n",
       "  for (const key of Object.keys(styleAttributes)) {\n",
       "    element.style[key] = styleAttributes[key];\n",
       "  }\n",
       "  return element;\n",
       "}\n",
       "\n",
       "// Max number of bytes which will be uploaded at a time.\n",
       "const MAX_PAYLOAD_SIZE = 100 * 1024;\n",
       "\n",
       "function _uploadFiles(inputId, outputId) {\n",
       "  const steps = uploadFilesStep(inputId, outputId);\n",
       "  const outputElement = document.getElementById(outputId);\n",
       "  // Cache steps on the outputElement to make it available for the next call\n",
       "  // to uploadFilesContinue from Python.\n",
       "  outputElement.steps = steps;\n",
       "\n",
       "  return _uploadFilesContinue(outputId);\n",
       "}\n",
       "\n",
       "// This is roughly an async generator (not supported in the browser yet),\n",
       "// where there are multiple asynchronous steps and the Python side is going\n",
       "// to poll for completion of each step.\n",
       "// This uses a Promise to block the python side on completion of each step,\n",
       "// then passes the result of the previous step as the input to the next step.\n",
       "function _uploadFilesContinue(outputId) {\n",
       "  const outputElement = document.getElementById(outputId);\n",
       "  const steps = outputElement.steps;\n",
       "\n",
       "  const next = steps.next(outputElement.lastPromiseValue);\n",
       "  return Promise.resolve(next.value.promise).then((value) => {\n",
       "    // Cache the last promise value to make it available to the next\n",
       "    // step of the generator.\n",
       "    outputElement.lastPromiseValue = value;\n",
       "    return next.value.response;\n",
       "  });\n",
       "}\n",
       "\n",
       "/**\n",
       " * Generator function which is called between each async step of the upload\n",
       " * process.\n",
       " * @param {string} inputId Element ID of the input file picker element.\n",
       " * @param {string} outputId Element ID of the output display.\n",
       " * @return {!Iterable<!Object>} Iterable of next steps.\n",
       " */\n",
       "function* uploadFilesStep(inputId, outputId) {\n",
       "  const inputElement = document.getElementById(inputId);\n",
       "  inputElement.disabled = false;\n",
       "\n",
       "  const outputElement = document.getElementById(outputId);\n",
       "  outputElement.innerHTML = '';\n",
       "\n",
       "  const pickedPromise = new Promise((resolve) => {\n",
       "    inputElement.addEventListener('change', (e) => {\n",
       "      resolve(e.target.files);\n",
       "    });\n",
       "  });\n",
       "\n",
       "  const cancel = document.createElement('button');\n",
       "  inputElement.parentElement.appendChild(cancel);\n",
       "  cancel.textContent = 'Cancel upload';\n",
       "  const cancelPromise = new Promise((resolve) => {\n",
       "    cancel.onclick = () => {\n",
       "      resolve(null);\n",
       "    };\n",
       "  });\n",
       "\n",
       "  // Wait for the user to pick the files.\n",
       "  const files = yield {\n",
       "    promise: Promise.race([pickedPromise, cancelPromise]),\n",
       "    response: {\n",
       "      action: 'starting',\n",
       "    }\n",
       "  };\n",
       "\n",
       "  cancel.remove();\n",
       "\n",
       "  // Disable the input element since further picks are not allowed.\n",
       "  inputElement.disabled = true;\n",
       "\n",
       "  if (!files) {\n",
       "    return {\n",
       "      response: {\n",
       "        action: 'complete',\n",
       "      }\n",
       "    };\n",
       "  }\n",
       "\n",
       "  for (const file of files) {\n",
       "    const li = document.createElement('li');\n",
       "    li.append(span(file.name, {fontWeight: 'bold'}));\n",
       "    li.append(span(\n",
       "        `(${file.type || 'n/a'}) - ${file.size} bytes, ` +\n",
       "        `last modified: ${\n",
       "            file.lastModifiedDate ? file.lastModifiedDate.toLocaleDateString() :\n",
       "                                    'n/a'} - `));\n",
       "    const percent = span('0% done');\n",
       "    li.appendChild(percent);\n",
       "\n",
       "    outputElement.appendChild(li);\n",
       "\n",
       "    const fileDataPromise = new Promise((resolve) => {\n",
       "      const reader = new FileReader();\n",
       "      reader.onload = (e) => {\n",
       "        resolve(e.target.result);\n",
       "      };\n",
       "      reader.readAsArrayBuffer(file);\n",
       "    });\n",
       "    // Wait for the data to be ready.\n",
       "    let fileData = yield {\n",
       "      promise: fileDataPromise,\n",
       "      response: {\n",
       "        action: 'continue',\n",
       "      }\n",
       "    };\n",
       "\n",
       "    // Use a chunked sending to avoid message size limits. See b/62115660.\n",
       "    let position = 0;\n",
       "    do {\n",
       "      const length = Math.min(fileData.byteLength - position, MAX_PAYLOAD_SIZE);\n",
       "      const chunk = new Uint8Array(fileData, position, length);\n",
       "      position += length;\n",
       "\n",
       "      const base64 = btoa(String.fromCharCode.apply(null, chunk));\n",
       "      yield {\n",
       "        response: {\n",
       "          action: 'append',\n",
       "          file: file.name,\n",
       "          data: base64,\n",
       "        },\n",
       "      };\n",
       "\n",
       "      let percentDone = fileData.byteLength === 0 ?\n",
       "          100 :\n",
       "          Math.round((position / fileData.byteLength) * 100);\n",
       "      percent.textContent = `${percentDone}% done`;\n",
       "\n",
       "    } while (position < fileData.byteLength);\n",
       "  }\n",
       "\n",
       "  // All done.\n",
       "  yield {\n",
       "    response: {\n",
       "      action: 'complete',\n",
       "    }\n",
       "  };\n",
       "}\n",
       "\n",
       "scope.google = scope.google || {};\n",
       "scope.google.colab = scope.google.colab || {};\n",
       "scope.google.colab._files = {\n",
       "  _uploadFiles,\n",
       "  _uploadFilesContinue,\n",
       "};\n",
       "})(self);\n",
       "</script> "
      ],
      "text/plain": [
       "<IPython.core.display.HTML object>"
      ]
     },
     "metadata": {},
     "output_type": "display_data"
    },
    {
     "name": "stdout",
     "output_type": "stream",
     "text": [
      "Saving SVHN_single_grey1.h5 to SVHN_single_grey1.h5\n"
     ]
    }
   ],
   "source": [
    "from google.colab import files\n",
    "#uploaded = files.upload()"
   ]
  },
  {
   "cell_type": "markdown",
   "metadata": {
    "id": "C8U3DUa3eNsT"
   },
   "source": [
    "**Libraries Importation**"
   ]
  },
  {
   "cell_type": "code",
   "execution_count": null,
   "metadata": {
    "id": "-dVzeuF3eQx1"
   },
   "outputs": [],
   "source": [
    "#Libraries for data manipulation\n",
    "import numpy as np\n",
    "import pandas as pd\n",
    "import matplotlib.pyplot as plt\n",
    "import seaborn as sns\n",
    "\n",
    "#Libraries for data pre-processing\n",
    "from sklearn.model_selection import train_test_split\n",
    "from sklearn.preprocessing import MinMaxScaler\n",
    "\n",
    "#Libraries for neural networks\n",
    "import tensorflow as tf\n",
    "from tensorflow import keras\n",
    "from tensorflow.keras import models, layers, losses, optimizers, utils #FB\n",
    "from tensorflow.keras.models import Sequential\n",
    "from tensorflow.keras.layers import Dense, Dropout, Activation, BatchNormalization, Input, GlobalAveragePooling2D, LeakyReLU, Flatten, Conv2D, MaxPooling2D\n",
    "from tensorflow.keras.losses import categorical_crossentropy\n",
    "from tensorflow.keras.optimizers import Adam\n",
    "from tensorflow.keras.utils import to_categorical\n",
    "\n",
    "#Libraries for model evaluation\n",
    "from sklearn.metrics import classification_report\n",
    "from sklearn.metrics import confusion_matrix"
   ]
  },
  {
   "cell_type": "markdown",
   "metadata": {
    "id": "ucnevGLoyKf_"
   },
   "source": [
    "**I'll check the version of tensorflow.**"
   ]
  },
  {
   "cell_type": "code",
   "execution_count": null,
   "metadata": {
    "colab": {
     "base_uri": "https://localhost:8080/"
    },
    "executionInfo": {
     "elapsed": 121,
     "status": "ok",
     "timestamp": 1683656173694,
     "user": {
      "displayName": "'Femi Bolarinwa",
      "userId": "04861924902875393207"
     },
     "user_tz": 240
    },
    "id": "W5as47YxyJVk",
    "outputId": "c3ae954e-56c8-4dd0-cde5-0f486890fb3a"
   },
   "outputs": [
    {
     "name": "stdout",
     "output_type": "stream",
     "text": [
      "2.12.0\n"
     ]
    }
   ],
   "source": [
    "print(tf.__version__)"
   ]
  },
  {
   "cell_type": "markdown",
   "metadata": {
    "id": "8lsux2ZwyTTR"
   },
   "source": [
    "## **Data Importation**\n",
    "\n",
    "- I'll load the dataset that is available as a .h5 file.\n",
    "- And then split the data into the train and the test dataset."
   ]
  },
  {
   "cell_type": "code",
   "execution_count": null,
   "metadata": {
    "id": "BApX9qgNsqV0",
    "scrolled": true
   },
   "outputs": [],
   "source": [
    "import h5py\n",
    "# Open the file as read only\n",
    "\n",
    "h5f = h5py.File('/content/drive/MyDrive/Colab Notebooks/SVHN_single_grey1.h5', 'r') #FB\n",
    "#h5f = h5py.File('/content/drive/MyDrive/SVHN_single_grey1.h5', 'r')\n",
    "\n",
    "# Loading the training and the test dataset\n",
    "X_train = h5f['X_train'][:]\n",
    "y_train = h5f['y_train'][:]\n",
    "\n",
    "X_test = h5f['X_test'][:]\n",
    "y_test = h5f['y_test'][:]\n",
    "\n",
    "# Close this file\n",
    "#h5f.close()"
   ]
  },
  {
   "cell_type": "markdown",
   "metadata": {
    "id": "hVe0CYpUgj7w"
   },
   "source": [
    "Number of images in the training and the testing dataset."
   ]
  },
  {
   "cell_type": "code",
   "execution_count": null,
   "metadata": {
    "colab": {
     "base_uri": "https://localhost:8080/"
    },
    "executionInfo": {
     "elapsed": 134,
     "status": "ok",
     "timestamp": 1683656187741,
     "user": {
      "displayName": "'Femi Bolarinwa",
      "userId": "04861924902875393207"
     },
     "user_tz": 240
    },
    "id": "y3lwKpOefkpA",
    "outputId": "9c7c5e11-6b9d-4a75-bece-0e1c555ddb86"
   },
   "outputs": [
    {
     "data": {
      "text/plain": [
       "(42000, 18000)"
      ]
     },
     "execution_count": 13,
     "metadata": {},
     "output_type": "execute_result"
    }
   ],
   "source": [
    "len(X_train), len(X_test)"
   ]
  },
  {
   "cell_type": "code",
   "execution_count": null,
   "metadata": {
    "colab": {
     "base_uri": "https://localhost:8080/"
    },
    "executionInfo": {
     "elapsed": 169,
     "status": "ok",
     "timestamp": 1683656429852,
     "user": {
      "displayName": "'Femi Bolarinwa",
      "userId": "04861924902875393207"
     },
     "user_tz": 240
    },
    "id": "u3rJoZDcuq0V",
    "outputId": "53a54508-ac12-4a55-c21f-c1fead808c0e"
   },
   "outputs": [
    {
     "data": {
      "text/plain": [
       "((42000, 32, 32), (18000, 32, 32), (42000,), (18000,))"
      ]
     },
     "execution_count": 16,
     "metadata": {},
     "output_type": "execute_result"
    }
   ],
   "source": [
    "X_train.shape, X_test.shape, y_train.shape, y_test.shape #FB"
   ]
  },
  {
   "cell_type": "markdown",
   "metadata": {
    "id": "akTUOfLlgwoM"
   },
   "source": [
    "**Observation:**\n",
    "- There are 42,000 images in the training data and 18,000 images in the testing data. "
   ]
  },
  {
   "cell_type": "code",
   "execution_count": null,
   "metadata": {
    "colab": {
     "base_uri": "https://localhost:8080/"
    },
    "executionInfo": {
     "elapsed": 142,
     "status": "ok",
     "timestamp": 1683656447189,
     "user": {
      "displayName": "'Femi Bolarinwa",
      "userId": "04861924902875393207"
     },
     "user_tz": 240
    },
    "id": "_u_RxeTVvUin",
    "outputId": "38c74416-7486-465d-c839-05a35f81501d"
   },
   "outputs": [
    {
     "data": {
      "text/plain": [
       "array([0, 1, 2, 3, 4, 5, 6, 7, 8, 9], dtype=uint8)"
      ]
     },
     "execution_count": 17,
     "metadata": {},
     "output_type": "execute_result"
    }
   ],
   "source": [
    "np.unique(y_train)"
   ]
  },
  {
   "cell_type": "markdown",
   "metadata": {
    "id": "kxODV6HKykuc"
   },
   "source": [
    "## **Visualizing images**\n",
    "\n",
    "- I'll use X_train to visualize the first 10 images.\n",
    "- I'll use Y_train to print the first 10 labels."
   ]
  },
  {
   "cell_type": "code",
   "execution_count": null,
   "metadata": {
    "colab": {
     "base_uri": "https://localhost:8080/",
     "height": 120
    },
    "executionInfo": {
     "elapsed": 584,
     "status": "ok",
     "timestamp": 1683656598810,
     "user": {
      "displayName": "'Femi Bolarinwa",
      "userId": "04861924902875393207"
     },
     "user_tz": 240
    },
    "id": "Bvsc8ytHsqWD",
    "outputId": "5254a8ed-9dc7-41d2-d0f0-8f50c4519f46"
   },
   "outputs": [
    {
     "data": {
      "image/png": "[encoded data removed]",
      "text/plain": [
       "<Figure size 1000x100 with 10 Axes>"
      ]
     },
     "metadata": {},
     "output_type": "display_data"
    },
    {
     "name": "stdout",
     "output_type": "stream",
     "text": [
      "label for each of the above image: [2 6 7 4 4 0 3 0 7 3]\n"
     ]
    }
   ],
   "source": [
    "# Visualizing the first 10 images in the dataset and printing their labels\n",
    "plt.figure(figsize = (10, 1))\n",
    "for i in range(10):\n",
    "    plt.subplot(1, 10, i+1)\n",
    "    plt.imshow(X_train[i], cmap = \"gray\")\n",
    "    plt.xlabel([y_train[i]]) #FB\n",
    "    plt.axis('off')\n",
    "plt.show()\n",
    "print('label for each of the above image: %s' % (y_train[0:10]))"
   ]
  },
  {
   "cell_type": "markdown",
   "metadata": {
    "id": "kzoyeXHOy80N"
   },
   "source": [
    "## **Data pre-processing**\n",
    "\n",
    "- I'll print the shape and the array of pixels for the first image in the training dataset.\n",
    "- I'll normalize the train and the test dataset by dividing by 255. This helps to prevent exploding gradient.\n",
    "- I'll print the new shapes of the train and the test dataset.\n",
    "- One-hot encode the target variable."
   ]
  },
  {
   "cell_type": "code",
   "execution_count": null,
   "metadata": {
    "colab": {
     "base_uri": "https://localhost:8080/"
    },
    "executionInfo": {
     "elapsed": 211,
     "status": "ok",
     "timestamp": 1683656787778,
     "user": {
      "displayName": "'Femi Bolarinwa",
      "userId": "04861924902875393207"
     },
     "user_tz": 240
    },
    "id": "NqndzQXng9rL",
    "outputId": "89b3c9dd-f276-4852-83fa-de73af41faa6"
   },
   "outputs": [
    {
     "name": "stdout",
     "output_type": "stream",
     "text": [
      "Shape: (32, 32)\n",
      "\n",
      "First image:\n",
      " [[ 33.0704  30.2601  26.852  ...  71.4471  58.2204  42.9939]\n",
      " [ 25.2283  25.5533  29.9765 ... 113.0209 103.3639  84.2949]\n",
      " [ 26.2775  22.6137  40.4763 ... 113.3028 121.775  115.4228]\n",
      " ...\n",
      " [ 28.5502  36.212   45.0801 ...  24.1359  25.0927  26.0603]\n",
      " [ 38.4352  26.4733  23.2717 ...  28.1094  29.4683  30.0661]\n",
      " [ 50.2984  26.0773  24.0389 ...  49.6682  50.853   53.0377]]\n"
     ]
    }
   ],
   "source": [
    "# Shape and the array of pixels for the first image\n",
    "print(\"Shape:\", X_train[0].shape)\n",
    "print()\n",
    "print(\"First image:\\n\", X_train[0])"
   ]
  },
  {
   "cell_type": "code",
   "execution_count": null,
   "metadata": {
    "id": "D9YPwf9ysqWU"
   },
   "outputs": [],
   "source": [
    "# Reshaping the dataset to flatten them. I'm reshaping the 2D image into 1D array. otherwise i'll have to flatten inside the NN\n",
    "X_train = X_train.reshape(X_train.shape[0], 1024)\n",
    "X_test = X_test.reshape(X_test.shape[0], 1024)"
   ]
  },
  {
   "cell_type": "markdown",
   "metadata": {
    "id": "f4CQkKtQ0XII"
   },
   "source": [
    "**Normalizing the train and the test data.**"
   ]
  },
  {
   "cell_type": "code",
   "execution_count": null,
   "metadata": {
    "id": "q_yUUTp_mUzB"
   },
   "outputs": [],
   "source": [
    "# Normalize inputs from 0-255 to 0-1\n",
    "X_train = X_train.astype('float32')/255.0\n",
    "X_test = X_test.astype('float32')/255.0"
   ]
  },
  {
   "cell_type": "code",
   "execution_count": null,
   "metadata": {
    "colab": {
     "base_uri": "https://localhost:8080/"
    },
    "executionInfo": {
     "elapsed": 131,
     "status": "ok",
     "timestamp": 1683657168343,
     "user": {
      "displayName": "'Femi Bolarinwa",
      "userId": "04861924902875393207"
     },
     "user_tz": 240
    },
    "id": "t7FSqOpamWkH",
    "outputId": "6a26486e-9a1c-4d79-8b6f-c0b472a15b83"
   },
   "outputs": [
    {
     "name": "stdout",
     "output_type": "stream",
     "text": [
      "Training set: (42000, 1024) (42000,)\n",
      "Test set: (18000, 1024) (18000,)\n"
     ]
    }
   ],
   "source": [
    "# New shape \n",
    "print('Training set:', X_train.shape, y_train.shape)\n",
    "print('Test set:', X_test.shape, y_test.shape)"
   ]
  },
  {
   "cell_type": "code",
   "execution_count": null,
   "metadata": {
    "colab": {
     "base_uri": "https://localhost:8080/"
    },
    "executionInfo": {
     "elapsed": 157,
     "status": "ok",
     "timestamp": 1683657319512,
     "user": {
      "displayName": "'Femi Bolarinwa",
      "userId": "04861924902875393207"
     },
     "user_tz": 240
    },
    "id": "zL0lYER4sqWw",
    "outputId": "b41aa78d-8084-4b50-fdae-4dc8179535c3"
   },
   "outputs": [
    {
     "data": {
      "text/plain": [
       "array([[0., 1., 0., ..., 0., 0., 0.],\n",
       "       [0., 0., 0., ..., 1., 0., 0.],\n",
       "       [0., 0., 1., ..., 0., 0., 0.],\n",
       "       ...,\n",
       "       [0., 0., 0., ..., 1., 0., 0.],\n",
       "       [0., 0., 0., ..., 0., 0., 1.],\n",
       "       [0., 0., 1., ..., 0., 0., 0.]], dtype=float32)"
      ]
     },
     "execution_count": 25,
     "metadata": {},
     "output_type": "execute_result"
    }
   ],
   "source": [
    "# One-hot encode output\n",
    "y_train = to_categorical(y_train)\n",
    "y_test = to_categorical(y_test)\n",
    "# Test labels\n",
    "y_test"
   ]
  },
  {
   "cell_type": "markdown",
   "metadata": {
    "id": "ViqPOTquCF76"
   },
   "source": [
    "**Observation:**\n",
    "- Notice that each entry of the target variable is a one-hot encoded vector instead of a single label."
   ]
  },
  {
   "cell_type": "markdown",
   "metadata": {
    "id": "yH-gVrzuByNA"
   },
   "source": [
    "## **Model Building**"
   ]
  },
  {
   "cell_type": "markdown",
   "metadata": {
    "id": "TPqmakNxwNn1"
   },
   "source": [
    "##ANN"
   ]
  },
  {
   "cell_type": "code",
   "execution_count": null,
   "metadata": {
    "id": "BcKRwrGn0XIL"
   },
   "outputs": [],
   "source": [
    "# Fixing the seed for random number generators to ensure exact results are reproducable \n",
    "np.random.seed(42)\n",
    "import random\n",
    "random.seed(42)\n",
    "tf.random.set_seed(42)"
   ]
  },
  {
   "cell_type": "markdown",
   "metadata": {
    "id": "UJDUoaEj1d6e"
   },
   "source": [
    "### **Model Architecture**\n",
    "- ANN Model Architecture:\n",
    " - First hidden layer with **64 nodes and the relu activation** and the **input shape = (1024, )**\n",
    " - Second hidden layer with **32 nodes and the relu activation**\n",
    " - Output layer with **activation as 'softmax' and number of nodes equal to the number of classes, i.e., 10**\n",
    " - Compiling the model with the **loss equal to categorical_crossentropy, optimizer equal to Adam(learning_rate = 0.001), and metric equal to 'accuracy'**. \n",
    "- I'll print the summary of the model.\n",
    "- And fit on the train data with a **validation split of 0.2, batch size = 128, verbose = 1, and epochs = 20**. \n",
    "- And store the model building history to use later for visualization."
   ]
  },
  {
   "cell_type": "markdown",
   "metadata": {
    "id": "A48z6ucF0XIP"
   },
   "source": [
    "### **Building and training ANN model as per the above mentioned architecture.**"
   ]
  },
  {
   "cell_type": "code",
   "execution_count": null,
   "metadata": {
    "id": "Cmi81Gr5sqW-"
   },
   "outputs": [],
   "source": [
    "# Defining the model\n",
    "def nn_model_1():\n",
    "    model = Sequential() \n",
    "    # Adding layers as per the architecture mentioned above in the same sequence\n",
    "    model.add(Dense(64, activation = 'relu', input_shape=(1024,)))\n",
    "    model.add(Dense(32, activation = 'relu'))\n",
    "    model.add(Dense(10, activation = 'softmax'))\n",
    "    # Compiling the model\n",
    "    model.compile(optimizer = Adam(learning_rate = 0.001), loss = 'categorical_crossentropy',  metrics = ['accuracy'])\n",
    "    return model"
   ]
  },
  {
   "cell_type": "code",
   "execution_count": null,
   "metadata": {
    "id": "bGCUI_xsImnH"
   },
   "outputs": [],
   "source": [
    "# Building the model\n",
    "model_1 = nn_model_1()"
   ]
  },
  {
   "cell_type": "code",
   "execution_count": null,
   "metadata": {
    "colab": {
     "base_uri": "https://localhost:8080/"
    },
    "executionInfo": {
     "elapsed": 145,
     "status": "ok",
     "timestamp": 1683658848698,
     "user": {
      "displayName": "'Femi Bolarinwa",
      "userId": "04861924902875393207"
     },
     "user_tz": 240
    },
    "id": "ckJsLdmdQadZ",
    "outputId": "917e5d15-0b10-4475-9351-80ece122bd81"
   },
   "outputs": [
    {
     "name": "stdout",
     "output_type": "stream",
     "text": [
      "Model: \"sequential_1\"\n",
      "_________________________________________________________________\n",
      " Layer (type)                Output Shape              Param #   \n",
      "=================================================================\n",
      " dense_3 (Dense)             (None, 64)                65600     \n",
      "                                                                 \n",
      " dense_4 (Dense)             (None, 32)                2080      \n",
      "                                                                 \n",
      " dense_5 (Dense)             (None, 10)                330       \n",
      "                                                                 \n",
      "=================================================================\n",
      "Total params: 68,010\n",
      "Trainable params: 68,010\n",
      "Non-trainable params: 0\n",
      "_________________________________________________________________\n"
     ]
    }
   ],
   "source": [
    "#ANN model summary\n",
    "model_1.summary()"
   ]
  },
  {
   "cell_type": "code",
   "execution_count": null,
   "metadata": {
    "colab": {
     "base_uri": "https://localhost:8080/"
    },
    "executionInfo": {
     "elapsed": 42145,
     "status": "ok",
     "timestamp": 1683658894996,
     "user": {
      "displayName": "'Femi Bolarinwa",
      "userId": "04861924902875393207"
     },
     "user_tz": 240
    },
    "id": "3Fy3Dif_zcCk",
    "outputId": "5e6b8e98-e413-4fa3-c666-b6aa5bbab41f"
   },
   "outputs": [
    {
     "name": "stdout",
     "output_type": "stream",
     "text": [
      "Epoch 1/20\n",
      "263/263 [==============================] - 3s 7ms/step - loss: 2.3001 - accuracy: 0.1028 - val_loss: 2.2833 - val_accuracy: 0.1186\n",
      "Epoch 2/20\n",
      "263/263 [==============================] - 2s 6ms/step - loss: 2.1704 - accuracy: 0.1865 - val_loss: 1.9455 - val_accuracy: 0.3038\n",
      "Epoch 3/20\n",
      "263/263 [==============================] - 2s 7ms/step - loss: 1.6959 - accuracy: 0.4225 - val_loss: 1.4936 - val_accuracy: 0.5096\n",
      "Epoch 4/20\n",
      "263/263 [==============================] - 2s 8ms/step - loss: 1.4426 - accuracy: 0.5219 - val_loss: 1.4359 - val_accuracy: 0.5240\n",
      "Epoch 5/20\n",
      "263/263 [==============================] - 2s 8ms/step - loss: 1.3451 - accuracy: 0.5652 - val_loss: 1.3182 - val_accuracy: 0.5729\n",
      "Epoch 6/20\n",
      "263/263 [==============================] - 2s 9ms/step - loss: 1.2716 - accuracy: 0.5954 - val_loss: 1.2630 - val_accuracy: 0.6060\n",
      "Epoch 7/20\n",
      "263/263 [==============================] - 2s 6ms/step - loss: 1.2252 - accuracy: 0.6159 - val_loss: 1.2189 - val_accuracy: 0.6251\n",
      "Epoch 8/20\n",
      "263/263 [==============================] - 2s 6ms/step - loss: 1.1872 - accuracy: 0.6337 - val_loss: 1.1672 - val_accuracy: 0.6458\n",
      "Epoch 9/20\n",
      "263/263 [==============================] - 2s 7ms/step - loss: 1.1411 - accuracy: 0.6512 - val_loss: 1.1308 - val_accuracy: 0.6579\n",
      "Epoch 10/20\n",
      "263/263 [==============================] - 1s 6ms/step - loss: 1.1140 - accuracy: 0.6595 - val_loss: 1.1272 - val_accuracy: 0.6555\n",
      "Epoch 11/20\n",
      "263/263 [==============================] - 2s 6ms/step - loss: 1.0872 - accuracy: 0.6681 - val_loss: 1.0913 - val_accuracy: 0.6735\n",
      "Epoch 12/20\n",
      "263/263 [==============================] - 2s 6ms/step - loss: 1.0738 - accuracy: 0.6743 - val_loss: 1.0677 - val_accuracy: 0.6817\n",
      "Epoch 13/20\n",
      "263/263 [==============================] - 2s 8ms/step - loss: 1.0571 - accuracy: 0.6786 - val_loss: 1.0622 - val_accuracy: 0.6826\n",
      "Epoch 14/20\n",
      "263/263 [==============================] - 2s 9ms/step - loss: 1.0391 - accuracy: 0.6846 - val_loss: 1.0606 - val_accuracy: 0.6812\n",
      "Epoch 15/20\n",
      "263/263 [==============================] - 2s 9ms/step - loss: 1.0207 - accuracy: 0.6916 - val_loss: 1.0458 - val_accuracy: 0.6818\n",
      "Epoch 16/20\n",
      "263/263 [==============================] - 2s 6ms/step - loss: 1.0081 - accuracy: 0.6939 - val_loss: 1.0648 - val_accuracy: 0.6744\n",
      "Epoch 17/20\n",
      "263/263 [==============================] - 1s 6ms/step - loss: 0.9962 - accuracy: 0.6976 - val_loss: 1.0401 - val_accuracy: 0.6851\n",
      "Epoch 18/20\n",
      "263/263 [==============================] - 2s 6ms/step - loss: 0.9914 - accuracy: 0.6997 - val_loss: 1.0078 - val_accuracy: 0.7017\n",
      "Epoch 19/20\n",
      "263/263 [==============================] - 2s 7ms/step - loss: 0.9765 - accuracy: 0.7047 - val_loss: 1.0002 - val_accuracy: 0.6985\n",
      "Epoch 20/20\n",
      "263/263 [==============================] - 2s 6ms/step - loss: 0.9695 - accuracy: 0.7080 - val_loss: 1.0051 - val_accuracy: 0.6973\n"
     ]
    }
   ],
   "source": [
    "# Fitting the model\n",
    "history_model_1 = model_1.fit(X_train, y_train, validation_split = 0.2, verbose = 1, batch_size = 128, epochs = 20)"
   ]
  },
  {
   "cell_type": "markdown",
   "metadata": {
    "id": "tKOckG-KPyLg"
   },
   "source": [
    "### **Plotting the validation and training accuracies**"
   ]
  },
  {
   "cell_type": "code",
   "execution_count": null,
   "metadata": {
    "colab": {
     "base_uri": "https://localhost:8080/",
     "height": 696
    },
    "executionInfo": {
     "elapsed": 585,
     "status": "ok",
     "timestamp": 1683658966430,
     "user": {
      "displayName": "'Femi Bolarinwa",
      "userId": "04861924902875393207"
     },
     "user_tz": 240
    },
    "id": "lt77zgGMP4yw",
    "outputId": "34ee2526-a840-4c4b-e0da-76ee4675a8d7"
   },
   "outputs": [
    {
     "data": {
      "image/png": "[encoded data removed]",
      "text/plain": [
       "<Figure size 800x800 with 1 Axes>"
      ]
     },
     "metadata": {},
     "output_type": "display_data"
    }
   ],
   "source": [
    "# Plotting the accuracies\n",
    "dict_hist = history_model_1.history\n",
    "list_ep = [i for i in range(1, 21)]\n",
    "plt.figure(figsize = (8, 8))\n",
    "plt.plot(list_ep, dict_hist['accuracy'], ls = '--', label = 'accuracy')\n",
    "plt.plot(list_ep, dict_hist['val_accuracy'], ls = '--', label = 'val_accuracy')\n",
    "plt.ylabel('Accuracy')\n",
    "plt.xlabel('Epochs')\n",
    "plt.legend()\n",
    "plt.show()"
   ]
  },
  {
   "cell_type": "markdown",
   "metadata": {
    "id": "pGBbQpLONX7k"
   },
   "source": [
    "**Observations:**\n",
    "- ~70% accuracy on training and validation\n",
    "- Decent, but could be better"
   ]
  },
  {
   "cell_type": "markdown",
   "metadata": {
    "id": "z0qgLMBZm5-K"
   },
   "source": [
    "I'll build one more ANN model with higher complexity and see if we can improve the performance of the model.\n",
    "\n",
    "First, I need to clear the previous model's history from the Keras backend to save memory space. Also, let's fix the seed again after clearing the backend."
   ]
  },
  {
   "cell_type": "code",
   "execution_count": null,
   "metadata": {
    "id": "y98BpLxsok_H"
   },
   "outputs": [],
   "source": [
    "# Clearing backend\n",
    "from tensorflow.keras import backend\n",
    "backend.clear_session()"
   ]
  },
  {
   "cell_type": "code",
   "execution_count": null,
   "metadata": {
    "id": "HbKi93HTolGW"
   },
   "outputs": [],
   "source": [
    "# Fixing the seed for random number generators\n",
    "np.random.seed(42)\n",
    "import random\n",
    "random.seed(42)\n",
    "tf.random.set_seed(42)"
   ]
  },
  {
   "cell_type": "markdown",
   "metadata": {
    "id": "lT6o3TIKuCtk"
   },
   "source": [
    "### **Second ANN Model Architecture**\n",
    "- I'll write a function that returns a sequential model with the following architecture:\n",
    " - First hidden layer with **256 nodes and the relu activation** and the **input shape = (1024, )**\n",
    " - Second hidden layer with **128 nodes and the relu activation**\n",
    " - **Dropout layer with the rate equal to 0.2**\n",
    " - Third hidden layer with **64 nodes and the relu activation**\n",
    " - Fourth hidden layer with **64 nodes and the relu activation**\n",
    " - Fifth hidden layer with **32 nodes and the relu activation**\n",
    " - **BatchNormalization layer**\n",
    " - Output layer with **activation as 'softmax' and number of nodes equal to the number of classes, i.e., 10**\n",
    " - I'll Compile the model with the **loss equal to categorical_crossentropy, optimizer equal to Adam(learning_rate = 0.0005), and metric equal to 'accuracy'**.\n",
    "- I'll call the nn_model_2 function and store the model in a new variable.\n",
    "- And print the summary of the model.\n",
    "- And fit on the train data with a **validation split of 0.2, batch size = 128, verbose = 1, and epochs = 30**. \n",
    "- I'll store the model building history to use later for visualization."
   ]
  },
  {
   "cell_type": "markdown",
   "metadata": {
    "id": "f-ZjNBmH0XIV"
   },
   "source": [
    "### **Building and training the second ANN model as per the above mentioned architecture.**"
   ]
  },
  {
   "cell_type": "code",
   "execution_count": null,
   "metadata": {
    "id": "EEPYLFIPnSDP"
   },
   "outputs": [],
   "source": [
    "# Define the model\n",
    "def nn_model_2():\n",
    "    model = Sequential()  \n",
    "    # Adding layers as per the architecture mentioned above in the same sequence\n",
    "    model.add(Dense(256, activation = 'relu', input_shape=(1024,)))\n",
    "\n",
    "    model.add(Dense(128, activation = 'relu'))\n",
    "    model.add(Dropout(0.2))\n",
    "\n",
    "    model.add(Dense(64, activation = 'relu'))\n",
    "    model.add(Dense(64, activation = 'relu'))\n",
    "    model.add(Dense(32, activation = 'relu'))\n",
    "    model.add(BatchNormalization())\n",
    "    model.add(Dense(10, activation = 'softmax'))\n",
    "    \n",
    "    # Compiling the model\n",
    "    model.compile(optimizer = Adam(learning_rate = 0.0005), loss = 'categorical_crossentropy',  metrics = ['accuracy'])\n",
    "    \n",
    "    return model"
   ]
  },
  {
   "cell_type": "code",
   "execution_count": null,
   "metadata": {
    "id": "AKjDY4plnSFl"
   },
   "outputs": [],
   "source": [
    "# Building the model\n",
    "model_2 = nn_model_2()"
   ]
  },
  {
   "cell_type": "code",
   "execution_count": null,
   "metadata": {
    "colab": {
     "base_uri": "https://localhost:8080/"
    },
    "executionInfo": {
     "elapsed": 127,
     "status": "ok",
     "timestamp": 1683660997789,
     "user": {
      "displayName": "'Femi Bolarinwa",
      "userId": "04861924902875393207"
     },
     "user_tz": 240
    },
    "id": "gz_6SVrU2swZ",
    "outputId": "310dde67-b6e5-4326-d0ff-776ed1eb80a2"
   },
   "outputs": [
    {
     "name": "stdout",
     "output_type": "stream",
     "text": [
      "Model: \"sequential_1\"\n",
      "_________________________________________________________________\n",
      " Layer (type)                Output Shape              Param #   \n",
      "=================================================================\n",
      " dense_6 (Dense)             (None, 256)               262400    \n",
      "                                                                 \n",
      " dense_7 (Dense)             (None, 128)               32896     \n",
      "                                                                 \n",
      " dropout_1 (Dropout)         (None, 128)               0         \n",
      "                                                                 \n",
      " dense_8 (Dense)             (None, 64)                8256      \n",
      "                                                                 \n",
      " dense_9 (Dense)             (None, 64)                4160      \n",
      "                                                                 \n",
      " dense_10 (Dense)            (None, 32)                2080      \n",
      "                                                                 \n",
      " batch_normalization_1 (Batc  (None, 32)               128       \n",
      " hNormalization)                                                 \n",
      "                                                                 \n",
      " dense_11 (Dense)            (None, 10)                330       \n",
      "                                                                 \n",
      "=================================================================\n",
      "Total params: 310,250\n",
      "Trainable params: 310,186\n",
      "Non-trainable params: 64\n",
      "_________________________________________________________________\n"
     ]
    }
   ],
   "source": [
    "# model summary\n",
    "model_2.summary()"
   ]
  },
  {
   "cell_type": "code",
   "execution_count": null,
   "metadata": {
    "colab": {
     "base_uri": "https://localhost:8080/"
    },
    "executionInfo": {
     "elapsed": 143974,
     "status": "ok",
     "timestamp": 1683661145185,
     "user": {
      "displayName": "'Femi Bolarinwa",
      "userId": "04861924902875393207"
     },
     "user_tz": 240
    },
    "id": "IQ0Sc4R-y-uu",
    "outputId": "f17a8111-a86d-4d3e-877b-d87e54d754ef"
   },
   "outputs": [
    {
     "name": "stdout",
     "output_type": "stream",
     "text": [
      "Epoch 1/30\n",
      "263/263 [==============================] - 5s 14ms/step - loss: 2.3374 - accuracy: 0.1029 - val_loss: 2.3058 - val_accuracy: 0.1092\n",
      "Epoch 2/30\n",
      "263/263 [==============================] - 5s 20ms/step - loss: 2.2158 - accuracy: 0.1539 - val_loss: 2.1663 - val_accuracy: 0.2448\n",
      "Epoch 3/30\n",
      "263/263 [==============================] - 4s 15ms/step - loss: 1.7252 - accuracy: 0.3918 - val_loss: 1.5989 - val_accuracy: 0.4875\n",
      "Epoch 4/30\n",
      "263/263 [==============================] - 3s 13ms/step - loss: 1.4240 - accuracy: 0.5238 - val_loss: 1.2962 - val_accuracy: 0.5742\n",
      "Epoch 5/30\n",
      "263/263 [==============================] - 3s 12ms/step - loss: 1.2421 - accuracy: 0.5943 - val_loss: 1.1814 - val_accuracy: 0.6225\n",
      "Epoch 6/30\n",
      "263/263 [==============================] - 5s 19ms/step - loss: 1.1818 - accuracy: 0.6160 - val_loss: 1.0895 - val_accuracy: 0.6490\n",
      "Epoch 7/30\n",
      "263/263 [==============================] - 4s 17ms/step - loss: 1.1195 - accuracy: 0.6405 - val_loss: 1.1064 - val_accuracy: 0.6383\n",
      "Epoch 8/30\n",
      "263/263 [==============================] - 3s 13ms/step - loss: 1.0841 - accuracy: 0.6509 - val_loss: 1.0788 - val_accuracy: 0.6520\n",
      "Epoch 9/30\n",
      "263/263 [==============================] - 3s 13ms/step - loss: 1.0461 - accuracy: 0.6651 - val_loss: 0.9821 - val_accuracy: 0.6844\n",
      "Epoch 10/30\n",
      "263/263 [==============================] - 4s 15ms/step - loss: 1.0215 - accuracy: 0.6742 - val_loss: 0.9967 - val_accuracy: 0.6825\n",
      "Epoch 11/30\n",
      "263/263 [==============================] - 5s 20ms/step - loss: 0.9984 - accuracy: 0.6830 - val_loss: 0.9946 - val_accuracy: 0.6769\n",
      "Epoch 12/30\n",
      "263/263 [==============================] - 3s 13ms/step - loss: 0.9780 - accuracy: 0.6874 - val_loss: 0.9642 - val_accuracy: 0.6888\n",
      "Epoch 13/30\n",
      "263/263 [==============================] - 3s 13ms/step - loss: 0.9707 - accuracy: 0.6913 - val_loss: 0.9513 - val_accuracy: 0.6956\n",
      "Epoch 14/30\n",
      "263/263 [==============================] - 4s 14ms/step - loss: 0.9455 - accuracy: 0.6976 - val_loss: 0.9356 - val_accuracy: 0.7077\n",
      "Epoch 15/30\n",
      "263/263 [==============================] - 5s 19ms/step - loss: 0.9324 - accuracy: 0.7033 - val_loss: 0.9895 - val_accuracy: 0.6756\n",
      "Epoch 16/30\n",
      "263/263 [==============================] - 4s 15ms/step - loss: 0.9174 - accuracy: 0.7078 - val_loss: 0.9912 - val_accuracy: 0.6838\n",
      "Epoch 17/30\n",
      "263/263 [==============================] - 3s 13ms/step - loss: 0.9070 - accuracy: 0.7083 - val_loss: 0.8824 - val_accuracy: 0.7165\n",
      "Epoch 18/30\n",
      "263/263 [==============================] - 3s 12ms/step - loss: 0.8895 - accuracy: 0.7157 - val_loss: 0.9090 - val_accuracy: 0.7098\n",
      "Epoch 19/30\n",
      "263/263 [==============================] - 5s 18ms/step - loss: 0.8867 - accuracy: 0.7174 - val_loss: 0.9086 - val_accuracy: 0.7150\n",
      "Epoch 20/30\n",
      "263/263 [==============================] - 5s 18ms/step - loss: 0.8721 - accuracy: 0.7231 - val_loss: 0.8715 - val_accuracy: 0.7227\n",
      "Epoch 21/30\n",
      "263/263 [==============================] - 3s 13ms/step - loss: 0.8635 - accuracy: 0.7228 - val_loss: 0.8627 - val_accuracy: 0.7211\n",
      "Epoch 22/30\n",
      "263/263 [==============================] - 3s 13ms/step - loss: 0.8603 - accuracy: 0.7244 - val_loss: 0.8902 - val_accuracy: 0.7174\n",
      "Epoch 23/30\n",
      "263/263 [==============================] - 4s 16ms/step - loss: 0.8477 - accuracy: 0.7309 - val_loss: 0.8941 - val_accuracy: 0.7142\n",
      "Epoch 24/30\n",
      "263/263 [==============================] - 5s 20ms/step - loss: 0.8385 - accuracy: 0.7335 - val_loss: 0.8487 - val_accuracy: 0.7307\n",
      "Epoch 25/30\n",
      "263/263 [==============================] - 3s 13ms/step - loss: 0.8349 - accuracy: 0.7347 - val_loss: 0.8353 - val_accuracy: 0.7336\n",
      "Epoch 26/30\n",
      "263/263 [==============================] - 3s 13ms/step - loss: 0.8283 - accuracy: 0.7364 - val_loss: 0.8919 - val_accuracy: 0.7094\n",
      "Epoch 27/30\n",
      "263/263 [==============================] - 4s 14ms/step - loss: 0.8302 - accuracy: 0.7346 - val_loss: 0.8692 - val_accuracy: 0.7243\n",
      "Epoch 28/30\n",
      "263/263 [==============================] - 5s 20ms/step - loss: 0.8211 - accuracy: 0.7368 - val_loss: 0.8220 - val_accuracy: 0.7380\n",
      "Epoch 29/30\n",
      "263/263 [==============================] - 4s 14ms/step - loss: 0.8111 - accuracy: 0.7417 - val_loss: 0.8461 - val_accuracy: 0.7279\n",
      "Epoch 30/30\n",
      "263/263 [==============================] - 3s 13ms/step - loss: 0.8186 - accuracy: 0.7381 - val_loss: 0.8109 - val_accuracy: 0.7430\n"
     ]
    }
   ],
   "source": [
    "# Fitting the model\n",
    "history_model_2 = model_2.fit(X_train, y_train, validation_split = 0.2, verbose = 1, batch_size = 128, epochs = 30)"
   ]
  },
  {
   "cell_type": "markdown",
   "metadata": {
    "id": "6UjEIbPM0XIX"
   },
   "source": [
    "### **Plotting the validation and training accuracies**"
   ]
  },
  {
   "cell_type": "code",
   "execution_count": null,
   "metadata": {
    "colab": {
     "base_uri": "https://localhost:8080/",
     "height": 696
    },
    "executionInfo": {
     "elapsed": 300,
     "status": "ok",
     "timestamp": 1683661145468,
     "user": {
      "displayName": "'Femi Bolarinwa",
      "userId": "04861924902875393207"
     },
     "user_tz": 240
    },
    "id": "01ig6BrF1KVy",
    "outputId": "07fb9c6d-abac-41b2-b276-95323fcbaa27"
   },
   "outputs": [
    {
     "data": {
      "image/png": "[encoded data removed]",
      "text/plain": [
       "<Figure size 800x800 with 1 Axes>"
      ]
     },
     "metadata": {},
     "output_type": "display_data"
    }
   ],
   "source": [
    "# Plotting the accuracies\n",
    "dict_hist = history_model_2.history\n",
    "list_ep = [i for i in range(1, 31)]\n",
    "plt.figure(figsize = (8, 8))\n",
    "plt.plot(list_ep, dict_hist['accuracy'], ls = '--', label = 'accuracy')\n",
    "plt.plot(list_ep, dict_hist['val_accuracy'], ls = '--', label = 'val_accuracy')\n",
    "plt.ylabel('Accuracy')\n",
    "plt.xlabel('Epochs')\n",
    "plt.legend()\n",
    "plt.show()"
   ]
  },
  {
   "cell_type": "markdown",
   "metadata": {
    "id": "VPW1LlD61RDn"
   },
   "source": [
    "\n",
    "**Observations:**\n",
    "- ~74% accuracy on training and validation\n",
    "- Bigger architecture, but no significant accuracy boost"
   ]
  },
  {
   "cell_type": "markdown",
   "metadata": {
    "id": "8kuXx9Bvu00f"
   },
   "source": [
    "## **Predictions on the test data**\n",
    "\n",
    "- I'll make predictions on the test set using the second model.\n",
    "- And print the obtained results using the classification report and the confusion matrix."
   ]
  },
  {
   "cell_type": "code",
   "execution_count": null,
   "metadata": {
    "colab": {
     "base_uri": "https://localhost:8080/"
    },
    "executionInfo": {
     "elapsed": 2986,
     "status": "ok",
     "timestamp": 1683661188594,
     "user": {
      "displayName": "'Femi Bolarinwa",
      "userId": "04861924902875393207"
     },
     "user_tz": 240
    },
    "id": "xbWMEtTj5Ad0",
    "outputId": "57c25b29-30e6-44e7-e094-f1d1cddad0dd"
   },
   "outputs": [
    {
     "name": "stdout",
     "output_type": "stream",
     "text": [
      "563/563 [==============================] - 2s 4ms/step\n"
     ]
    }
   ],
   "source": [
    "test_pred = model_2.predict(X_test)\n",
    "test_pred = np.argmax(test_pred, axis = -1)"
   ]
  },
  {
   "cell_type": "markdown",
   "metadata": {
    "id": "i3li8Ib08yts"
   },
   "source": [
    "**Note:** Earlier, noticed that each entry of the target variable is a one-hot encoded vector but to print the classification report and confusion matrix, I must convert each entry of y_test to a single label."
   ]
  },
  {
   "cell_type": "code",
   "execution_count": null,
   "metadata": {
    "id": "NByu7uAQ8x9P"
   },
   "outputs": [],
   "source": [
    "# Converting each entry to single label from one-hot encoded vector\n",
    "y_test = np.argmax(y_test, axis = -1)"
   ]
  },
  {
   "cell_type": "markdown",
   "metadata": {
    "id": "1_SIoopr0XIg"
   },
   "source": [
    "### **Classification report and the confusion matrix for the test predictions.**"
   ]
  },
  {
   "cell_type": "code",
   "execution_count": null,
   "metadata": {
    "colab": {
     "base_uri": "https://localhost:8080/",
     "height": 769
    },
    "executionInfo": {
     "elapsed": 1626,
     "status": "ok",
     "timestamp": 1683661481125,
     "user": {
      "displayName": "'Femi Bolarinwa",
      "userId": "04861924902875393207"
     },
     "user_tz": 240
    },
    "id": "xRddeJ-3EHT1",
    "outputId": "313f4767-29bb-41e6-eabf-ae255906a1e7"
   },
   "outputs": [
    {
     "name": "stdout",
     "output_type": "stream",
     "text": [
      "              precision    recall  f1-score   support\n",
      "\n",
      "           0       0.83      0.73      0.78      1814\n",
      "           1       0.77      0.79      0.78      1828\n",
      "           2       0.67      0.82      0.74      1803\n",
      "           3       0.66      0.74      0.70      1719\n",
      "           4       0.82      0.78      0.80      1812\n",
      "           5       0.77      0.65      0.71      1768\n",
      "           6       0.78      0.70      0.74      1832\n",
      "           7       0.77      0.79      0.78      1808\n",
      "           8       0.68      0.72      0.70      1812\n",
      "           9       0.73      0.72      0.72      1804\n",
      "\n",
      "    accuracy                           0.74     18000\n",
      "   macro avg       0.75      0.74      0.74     18000\n",
      "weighted avg       0.75      0.74      0.74     18000\n",
      "\n"
     ]
    },
    {
     "data": {
      "image/png": "[encoded data removed]",
      "text/plain": [
       "<Figure size 800x500 with 2 Axes>"
      ]
     },
     "metadata": {},
     "output_type": "display_data"
    }
   ],
   "source": [
    "# Printing the classification report\n",
    "print(classification_report(y_test, test_pred))\n",
    "# Plotting the heatmap using confusion matrix\n",
    "cm = confusion_matrix(y_test, test_pred)     \n",
    "plt.figure(figsize = (8, 5))\n",
    "sns.heatmap(cm, annot = True,  fmt = '.0f')\n",
    "plt.ylabel('Actual')\n",
    "plt.xlabel('Predicted')\n",
    "plt.show()"
   ]
  },
  {
   "cell_type": "markdown",
   "metadata": {
    "id": "DjErl4GA2u9s"
   },
   "source": [
    "**Observations:**\n",
    "- Accuracy: 74% \n",
    "- Recall: 74%\n",
    "- Precision: 75%\n",
    "- f1-score: 74%\n",
    "- Similar accuracy on training and test dataset. Not overfitted\n",
    "- Decent model, could be better"
   ]
  },
  {
   "cell_type": "markdown",
   "metadata": {
    "id": "xkR4JioMsuIV"
   },
   "source": [
    "## **Convolutional Neural Networks**"
   ]
  },
  {
   "cell_type": "code",
   "execution_count": null,
   "metadata": {
    "id": "6jDqh2niv7u2",
    "scrolled": true
   },
   "outputs": [],
   "source": [
    "X_train = h5f['X_train'][:]\n",
    "y_train = h5f['y_train'][:]\n",
    "X_test = h5f['X_test'][:]\n",
    "y_test = h5f['y_test'][:]\n",
    "\n",
    "# Close this file\n",
    "#h5f.close()"
   ]
  },
  {
   "cell_type": "markdown",
   "metadata": {
    "id": "RCX90mBX7CyN"
   },
   "source": [
    "Number of images in the training and the testing dataset."
   ]
  },
  {
   "cell_type": "code",
   "execution_count": null,
   "metadata": {
    "colab": {
     "base_uri": "https://localhost:8080/"
    },
    "executionInfo": {
     "elapsed": 115,
     "status": "ok",
     "timestamp": 1683661944164,
     "user": {
      "displayName": "'Femi Bolarinwa",
      "userId": "04861924902875393207"
     },
     "user_tz": 240
    },
    "id": "bB_CPqX97CyN",
    "outputId": "7f35f693-e645-4e6a-d329-859eee0f8b42"
   },
   "outputs": [
    {
     "data": {
      "text/plain": [
       "(42000, 18000)"
      ]
     },
     "execution_count": 61,
     "metadata": {},
     "output_type": "execute_result"
    }
   ],
   "source": [
    "len(X_train), len(X_test)"
   ]
  },
  {
   "cell_type": "code",
   "execution_count": null,
   "metadata": {
    "colab": {
     "base_uri": "https://localhost:8080/"
    },
    "executionInfo": {
     "elapsed": 141,
     "status": "ok",
     "timestamp": 1683662638554,
     "user": {
      "displayName": "'Femi Bolarinwa",
      "userId": "04861924902875393207"
     },
     "user_tz": 240
    },
    "id": "i3Omrhs_Gjay",
    "outputId": "6028f8b3-e414-4b8d-a761-9f05203221e7"
   },
   "outputs": [
    {
     "data": {
      "text/plain": [
       "((42000, 32, 32), (18000, 32, 32), (42000,), (18000,))"
      ]
     },
     "execution_count": 69,
     "metadata": {},
     "output_type": "execute_result"
    }
   ],
   "source": [
    "X_train.shape, X_test.shape, y_train.shape, y_test.shape #FB"
   ]
  },
  {
   "cell_type": "markdown",
   "metadata": {
    "id": "n-2ZS88A7CyV"
   },
   "source": [
    "**Observation:**\n",
    "- There are 42,000 images in the training data and 18,000 images in the testing data. "
   ]
  },
  {
   "cell_type": "markdown",
   "metadata": {
    "id": "x6wJj56u7CyW"
   },
   "source": [
    "## **Data preparation**\n",
    "\n",
    "- I'll print the shape and the array of pixels for the first image in the training dataset.\n",
    "- I'll reshape the trainng and the test dataset because we always have to give a 4D array as input to CNNs.\n",
    "- I'll normalize the train and the test dataset by dividing by 255.\n",
    "- And rint the new shapes of the train and the test dataset.\n",
    "- One-hot encode the target variable."
   ]
  },
  {
   "cell_type": "code",
   "execution_count": null,
   "metadata": {
    "colab": {
     "base_uri": "https://localhost:8080/"
    },
    "executionInfo": {
     "elapsed": 140,
     "status": "ok",
     "timestamp": 1683662649546,
     "user": {
      "displayName": "'Femi Bolarinwa",
      "userId": "04861924902875393207"
     },
     "user_tz": 240
    },
    "id": "lFbbhntr7CyW",
    "outputId": "651ccccd-28c9-4f09-8cc6-8b4295df3fbc"
   },
   "outputs": [
    {
     "name": "stdout",
     "output_type": "stream",
     "text": [
      "Shape: (32, 32)\n",
      "\n",
      "First image:\n",
      " [[ 33.0704  30.2601  26.852  ...  71.4471  58.2204  42.9939]\n",
      " [ 25.2283  25.5533  29.9765 ... 113.0209 103.3639  84.2949]\n",
      " [ 26.2775  22.6137  40.4763 ... 113.3028 121.775  115.4228]\n",
      " ...\n",
      " [ 28.5502  36.212   45.0801 ...  24.1359  25.0927  26.0603]\n",
      " [ 38.4352  26.4733  23.2717 ...  28.1094  29.4683  30.0661]\n",
      " [ 50.2984  26.0773  24.0389 ...  49.6682  50.853   53.0377]]\n"
     ]
    }
   ],
   "source": [
    "# Shape and the array of pixels for the first image\n",
    "print(\"Shape:\", X_train[0].shape)\n",
    "print()\n",
    "print(\"First image:\\n\", X_train[0])"
   ]
  },
  {
   "cell_type": "code",
   "execution_count": null,
   "metadata": {
    "id": "NZqaO-nU7CyW"
   },
   "outputs": [],
   "source": [
    "# Reshaping the dataset to be able to pass them to CNNs. 4D array required as input to CNNs\n",
    "X_train = X_train.reshape(X_train.shape[0], 32, 32, 1)\n",
    "X_test = X_test.reshape(X_test.shape[0], 32, 32, 1)"
   ]
  },
  {
   "cell_type": "code",
   "execution_count": null,
   "metadata": {
    "id": "y4I6Fq_h7CyW"
   },
   "outputs": [],
   "source": [
    "# Normalizing inputs from 0-255 to 0-1\n",
    "X_train = X_train / 255.0\n",
    "X_test = X_test / 255.0"
   ]
  },
  {
   "cell_type": "code",
   "execution_count": null,
   "metadata": {
    "colab": {
     "base_uri": "https://localhost:8080/"
    },
    "executionInfo": {
     "elapsed": 304,
     "status": "ok",
     "timestamp": 1683662665914,
     "user": {
      "displayName": "'Femi Bolarinwa",
      "userId": "04861924902875393207"
     },
     "user_tz": 240
    },
    "id": "iSIgVj6I7CyW",
    "outputId": "b58746c9-af6f-4ad0-dc73-d72de0a7c8df"
   },
   "outputs": [
    {
     "name": "stdout",
     "output_type": "stream",
     "text": [
      "Training set: (42000, 32, 32, 1) (42000,)\n",
      "Test set: (18000, 32, 32, 1) (18000,)\n"
     ]
    }
   ],
   "source": [
    "# New shape \n",
    "print('Training set:', X_train.shape, y_train.shape)\n",
    "print('Test set:', X_test.shape, y_test.shape)"
   ]
  },
  {
   "cell_type": "markdown",
   "metadata": {
    "id": "10QaOV-xR7Jn"
   },
   "source": [
    "### **One-hot encoding the labels in the target variable y_train and y_test.**"
   ]
  },
  {
   "cell_type": "code",
   "execution_count": null,
   "metadata": {
    "colab": {
     "base_uri": "https://localhost:8080/"
    },
    "executionInfo": {
     "elapsed": 132,
     "status": "ok",
     "timestamp": 1683662772294,
     "user": {
      "displayName": "'Femi Bolarinwa",
      "userId": "04861924902875393207"
     },
     "user_tz": 240
    },
    "id": "D9-cx9yS7CyW",
    "outputId": "48c83885-700d-4b13-acc5-c0bd2fe5b763"
   },
   "outputs": [
    {
     "data": {
      "text/plain": [
       "array([[0., 1., 0., ..., 0., 0., 0.],\n",
       "       [0., 0., 0., ..., 1., 0., 0.],\n",
       "       [0., 0., 1., ..., 0., 0., 0.],\n",
       "       ...,\n",
       "       [0., 0., 0., ..., 1., 0., 0.],\n",
       "       [0., 0., 0., ..., 0., 0., 1.],\n",
       "       [0., 0., 1., ..., 0., 0., 0.]], dtype=float32)"
      ]
     },
     "execution_count": 74,
     "metadata": {},
     "output_type": "execute_result"
    }
   ],
   "source": [
    "#one-hot encoding the output\n",
    "y_train = to_categorical(y_train)\n",
    "y_test = to_categorical(y_test)\n",
    "# test labels\n",
    "y_test"
   ]
  },
  {
   "cell_type": "markdown",
   "metadata": {
    "id": "uXVwLJ2-7CyW"
   },
   "source": [
    "**Observation:**\n",
    "- Each entry of the target variable is a one-hot encoded vector instead of a single label. Each element of the vector will represent the probability of the output belonging to that class"
   ]
  },
  {
   "cell_type": "markdown",
   "metadata": {
    "id": "P3VVYhZd7CyW"
   },
   "source": [
    "## **Model Building**"
   ]
  },
  {
   "cell_type": "code",
   "execution_count": null,
   "metadata": {
    "id": "ZY5pyF4-KDNt"
   },
   "outputs": [],
   "source": [
    "# Fixing the seed for random number generators\n",
    "np.random.seed(42)\n",
    "import random\n",
    "random.seed(42)\n",
    "tf.random.set_seed(42)"
   ]
  },
  {
   "cell_type": "markdown",
   "metadata": {
    "id": "jkZpgyzw7CyX"
   },
   "source": [
    "### **CNN Model Architecture**\n",
    "- **CNN:**a sequential model with the following architecture:\n",
    " - First Convolutional layer with **16 filters and the kernel size of 3x3**. Use the **'same' padding** and provide the **input shape = (32, 32, 1)**\n",
    " - **LeakyRelu layer** with the **slope equal to 0.1**\n",
    " - Second Convolutional layer with **32 filters and the kernel size of 3x3 with 'same' padding**\n",
    " - Another **LeakyRelu** with the **slope equal to 0.1**\n",
    " - A **max-pooling layer** with a **pool size of 2x2**\n",
    " - **Flattening** the output from the previous layer\n",
    " - **Dense layer with 32 nodes**\n",
    " - **LeakyRelu layer with the slope equal to 0.1**\n",
    " - Final **output layer with nodes equal to the number of classes, i.e., 10** and **'softmax' as the activation function**\n",
    " - I'll compile the model with the **loss equal to categorical_crossentropy, optimizer equal to Adam(learning_rate = 0.001), and metric equal to 'accuracy'**.\n",
    "- I'll call the function cnn_model_1 and store the output in a new variable.\n",
    "- And print the summary of the model.\n",
    "- And fit the model on the training data with a **validation split of 0.2, batch size = 32, verbose = 1, and epochs = 20**. \n",
    "- I'll store the model building history to use later for visualization."
   ]
  },
  {
   "cell_type": "markdown",
   "metadata": {
    "id": "JWsAd45JKDNu"
   },
   "source": [
    "### **Building and training CNN model as per the above mentioned architecture.**"
   ]
  },
  {
   "cell_type": "code",
   "execution_count": null,
   "metadata": {
    "id": "SyPeYlqS7CyX"
   },
   "outputs": [],
   "source": [
    "# Define the model\n",
    "def cnn_model_1():\n",
    "    model = Sequential() \n",
    "    # Adding layers as per the architecture mentioned above in the same sequence\n",
    "    model.add(Conv2D(16, (3, 3), padding=\"same\", input_shape=(32, 32, 1)))\n",
    "    model.add(LeakyReLU(0.1))\n",
    "    #model.add(MaxPooling2D(2, 2))\n",
    "\n",
    "    model.add(Conv2D(32, (3, 3), padding=\"same\"))\n",
    "    model.add(LeakyReLU(0.1))\n",
    "    model.add(MaxPooling2D(2, 2))\n",
    "\n",
    "    model.add(Flatten())\n",
    "\n",
    "    model.add(Dense(32))\n",
    "    model.add(LeakyReLU(0.1))\n",
    "\n",
    "    model.add(Dense(10, activation = 'softmax'))\n",
    "    \n",
    "    # Compiling the model\n",
    "    model.compile(optimizer = Adam(learning_rate = 0.001), loss = 'categorical_crossentropy',  metrics = ['accuracy'])\n",
    "    \n",
    "    return model"
   ]
  },
  {
   "cell_type": "code",
   "execution_count": null,
   "metadata": {
    "id": "JUyktN6F7CyX"
   },
   "outputs": [],
   "source": [
    "# Building the model\n",
    "cnn_model_1 = cnn_model_1()"
   ]
  },
  {
   "cell_type": "code",
   "execution_count": null,
   "metadata": {
    "colab": {
     "base_uri": "https://localhost:8080/"
    },
    "executionInfo": {
     "elapsed": 233,
     "status": "ok",
     "timestamp": 1683664710226,
     "user": {
      "displayName": "'Femi Bolarinwa",
      "userId": "04861924902875393207"
     },
     "user_tz": 240
    },
    "id": "_mAjeB5z7CyX",
    "outputId": "e5f49e06-f7eb-4b8f-e80c-d08877dbac11"
   },
   "outputs": [
    {
     "name": "stdout",
     "output_type": "stream",
     "text": [
      "Model: \"sequential_7\"\n",
      "_________________________________________________________________\n",
      " Layer (type)                Output Shape              Param #   \n",
      "=================================================================\n",
      " conv2d_8 (Conv2D)           (None, 32, 32, 16)        160       \n",
      "                                                                 \n",
      " leaky_re_lu_12 (LeakyReLU)  (None, 32, 32, 16)        0         \n",
      "                                                                 \n",
      " conv2d_9 (Conv2D)           (None, 32, 32, 32)        4640      \n",
      "                                                                 \n",
      " leaky_re_lu_13 (LeakyReLU)  (None, 32, 32, 32)        0         \n",
      "                                                                 \n",
      " max_pooling2d_5 (MaxPooling  (None, 16, 16, 32)       0         \n",
      " 2D)                                                             \n",
      "                                                                 \n",
      " flatten_4 (Flatten)         (None, 8192)              0         \n",
      "                                                                 \n",
      " dense_18 (Dense)            (None, 32)                262176    \n",
      "                                                                 \n",
      " leaky_re_lu_14 (LeakyReLU)  (None, 32)                0         \n",
      "                                                                 \n",
      " dense_19 (Dense)            (None, 10)                330       \n",
      "                                                                 \n",
      "=================================================================\n",
      "Total params: 267,306\n",
      "Trainable params: 267,306\n",
      "Non-trainable params: 0\n",
      "_________________________________________________________________\n"
     ]
    }
   ],
   "source": [
    "# Printing the model summary\n",
    "cnn_model_1.summary()"
   ]
  },
  {
   "cell_type": "code",
   "execution_count": null,
   "metadata": {
    "colab": {
     "base_uri": "https://localhost:8080/"
    },
    "executionInfo": {
     "elapsed": 2003356,
     "status": "ok",
     "timestamp": 1683666719909,
     "user": {
      "displayName": "'Femi Bolarinwa",
      "userId": "04861924902875393207"
     },
     "user_tz": 240
    },
    "id": "-Ioer0DV7CyX",
    "outputId": "762df78c-b0a1-45ad-a17d-bf32e951d3f7"
   },
   "outputs": [
    {
     "name": "stdout",
     "output_type": "stream",
     "text": [
      "Epoch 1/20\n",
      "1050/1050 [==============================] - 96s 90ms/step - loss: 1.1206 - accuracy: 0.6321 - val_loss: 0.6342 - val_accuracy: 0.8175\n",
      "Epoch 2/20\n",
      "1050/1050 [==============================] - 100s 95ms/step - loss: 0.5381 - accuracy: 0.8477 - val_loss: 0.5280 - val_accuracy: 0.8498\n",
      "Epoch 3/20\n",
      "1050/1050 [==============================] - 103s 98ms/step - loss: 0.4532 - accuracy: 0.8676 - val_loss: 0.5230 - val_accuracy: 0.8511\n",
      "Epoch 4/20\n",
      "1050/1050 [==============================] - 94s 89ms/step - loss: 0.3942 - accuracy: 0.8853 - val_loss: 0.4545 - val_accuracy: 0.8713\n",
      "Epoch 5/20\n",
      "1050/1050 [==============================] - 99s 94ms/step - loss: 0.3485 - accuracy: 0.8972 - val_loss: 0.4837 - val_accuracy: 0.8655\n",
      "Epoch 6/20\n",
      "1050/1050 [==============================] - 93s 89ms/step - loss: 0.3089 - accuracy: 0.9074 - val_loss: 0.4652 - val_accuracy: 0.8693\n",
      "Epoch 7/20\n",
      "1050/1050 [==============================] - 98s 93ms/step - loss: 0.2791 - accuracy: 0.9174 - val_loss: 0.4560 - val_accuracy: 0.8749\n",
      "Epoch 8/20\n",
      "1050/1050 [==============================] - 93s 88ms/step - loss: 0.2466 - accuracy: 0.9270 - val_loss: 0.4792 - val_accuracy: 0.8725\n",
      "Epoch 9/20\n",
      "1050/1050 [==============================] - 100s 95ms/step - loss: 0.2234 - accuracy: 0.9334 - val_loss: 0.4637 - val_accuracy: 0.8773\n",
      "Epoch 10/20\n",
      "1050/1050 [==============================] - 97s 93ms/step - loss: 0.2011 - accuracy: 0.9378 - val_loss: 0.5249 - val_accuracy: 0.8737\n",
      "Epoch 11/20\n",
      "1050/1050 [==============================] - 95s 90ms/step - loss: 0.1808 - accuracy: 0.9444 - val_loss: 0.5445 - val_accuracy: 0.8688\n",
      "Epoch 12/20\n",
      "1050/1050 [==============================] - 97s 93ms/step - loss: 0.1617 - accuracy: 0.9514 - val_loss: 0.5542 - val_accuracy: 0.8707\n",
      "Epoch 13/20\n",
      "1050/1050 [==============================] - 97s 92ms/step - loss: 0.1478 - accuracy: 0.9540 - val_loss: 0.5973 - val_accuracy: 0.8655\n",
      "Epoch 14/20\n",
      "1050/1050 [==============================] - 99s 95ms/step - loss: 0.1319 - accuracy: 0.9603 - val_loss: 0.6128 - val_accuracy: 0.8715\n",
      "Epoch 15/20\n",
      "1050/1050 [==============================] - 100s 95ms/step - loss: 0.1185 - accuracy: 0.9621 - val_loss: 0.6533 - val_accuracy: 0.8668\n",
      "Epoch 16/20\n",
      "1050/1050 [==============================] - 95s 91ms/step - loss: 0.1098 - accuracy: 0.9645 - val_loss: 0.6513 - val_accuracy: 0.8692\n",
      "Epoch 17/20\n",
      "1050/1050 [==============================] - 103s 98ms/step - loss: 0.1001 - accuracy: 0.9680 - val_loss: 0.6872 - val_accuracy: 0.8690\n",
      "Epoch 18/20\n",
      "1050/1050 [==============================] - 101s 96ms/step - loss: 0.0888 - accuracy: 0.9715 - val_loss: 0.7658 - val_accuracy: 0.8682\n",
      "Epoch 19/20\n",
      "1050/1050 [==============================] - 100s 96ms/step - loss: 0.0829 - accuracy: 0.9721 - val_loss: 0.7826 - val_accuracy: 0.8658\n",
      "Epoch 20/20\n",
      "1050/1050 [==============================] - 94s 90ms/step - loss: 0.0752 - accuracy: 0.9759 - val_loss: 0.8104 - val_accuracy: 0.8589\n"
     ]
    }
   ],
   "source": [
    "# Fitting the model\n",
    "history_cnn_model_1 = cnn_model_1.fit(X_train, y_train, validation_split = 0.2, verbose = 1, batch_size = 32, epochs = 20)"
   ]
  },
  {
   "cell_type": "markdown",
   "metadata": {
    "id": "UfiAHXdS7CyX"
   },
   "source": [
    "### **Plotting the validation and training accuracies**"
   ]
  },
  {
   "cell_type": "code",
   "execution_count": null,
   "metadata": {
    "colab": {
     "base_uri": "https://localhost:8080/",
     "height": 696
    },
    "executionInfo": {
     "elapsed": 577,
     "status": "ok",
     "timestamp": 1683666988253,
     "user": {
      "displayName": "'Femi Bolarinwa",
      "userId": "04861924902875393207"
     },
     "user_tz": 240
    },
    "id": "YDt-OYSh7CyX",
    "outputId": "aacd655c-c4ed-4e51-9712-04aa90b60e72"
   },
   "outputs": [
    {
     "data": {
      "image/png": "[encoded data removed]",
      "text/plain": [
       "<Figure size 800x800 with 1 Axes>"
      ]
     },
     "metadata": {},
     "output_type": "display_data"
    }
   ],
   "source": [
    "# Plotting the accuracies\n",
    "dict_hist = history_cnn_model_1.history\n",
    "list_ep = [i for i in range(1, 21)]\n",
    "plt.figure(figsize = (8, 8))\n",
    "plt.plot(list_ep, dict_hist['accuracy'], ls = '--', label = 'accuracy')\n",
    "plt.plot(list_ep, dict_hist['val_accuracy'], ls = '--', label = 'val_accuracy')\n",
    "plt.ylabel('Accuracy')\n",
    "plt.xlabel('Epochs')\n",
    "plt.legend()\n",
    "plt.show()"
   ]
  },
  {
   "cell_type": "markdown",
   "metadata": {
    "id": "-A1gOsqS7CyX"
   },
   "source": [
    "**Observations:**\n",
    "- Divergent training and validation accuracies. Model overfitted\n",
    "- Decent accuracy, could be better. \n",
    "- Model fitting took a lot longer than ANN."
   ]
  },
  {
   "cell_type": "markdown",
   "metadata": {
    "id": "M2h5TcDt7CyX"
   },
   "source": [
    "Let's build another model and see if we can get a better model with generalized performance.\n",
    "\n",
    "First, I'll clear the previous model's history from the Keras backend. Also, let's fix the seed again after clearing the backend."
   ]
  },
  {
   "cell_type": "code",
   "execution_count": null,
   "metadata": {
    "id": "g2XohRDC7CyX"
   },
   "outputs": [],
   "source": [
    "# Clearing backend\n",
    "from tensorflow.keras import backend\n",
    "backend.clear_session()"
   ]
  },
  {
   "cell_type": "code",
   "execution_count": null,
   "metadata": {
    "id": "LOHjBjeP7CyY"
   },
   "outputs": [],
   "source": [
    "# Fixing the seed for random number generators\n",
    "np.random.seed(42)\n",
    "import random\n",
    "random.seed(42)\n",
    "tf.random.set_seed(42)"
   ]
  },
  {
   "cell_type": "markdown",
   "metadata": {
    "id": "OwRS3BbI7CyY"
   },
   "source": [
    "### **Second CNN Model Architecture**\n",
    "\n",
    "- I'll write a function that returns a sequential model with the following architecture:\n",
    " - First Convolutional layer with **16 filters and the kernel size of 3x3**. Use the **'same' padding** and provide the **input shape = (32, 32, 1)**\n",
    " - A **LeakyRelu layer** with the **slope equal to 0.1**\n",
    " - Second Convolutional layer with **32 filters and the kernel size of 3x3 with 'same' padding**\n",
    " - A **LeakyRelu** with the **slope equal to 0.1**\n",
    " - A **max-pooling layer** with a **pool size of 2x2**\n",
    " - A **BatchNormalization layer**\n",
    " - Third Convolutional layer with **32 filters and the kernel size of 3x3 with 'same' padding**\n",
    " - A **LeakyRelu layer with the slope equal to 0.1**\n",
    " - Fourth Convolutional layer **64 filters and the kernel size of 3x3 with 'same' padding** \n",
    " - A **LeakyRelu layer with the slope equal to 0.1**\n",
    " - A **max-pooling layer** with a **pool size of 2x2**\n",
    " - A **BatchNormalization layer**\n",
    " - **Flatten** the output from the previous layer\n",
    " - A **dense layer with 32 nodes**\n",
    " - A **LeakyRelu layer with the slope equal to 0.1**\n",
    " - A **dropout layer with the rate equal to 0.5**\n",
    " - Final **output layer with nodes equal to the number of classes, i.e., 10** and **'softmax' as the activation function**\n",
    " - I'll compile the model with the **categorical_crossentropy loss, adam optimizers (learning_rate = 0.001), and metric equal to 'accuracy'**.\n",
    "- I'll call the function cnn_model_2 and store the model in a new variable.\n",
    "- And print the summary of the model.\n",
    "- And fit the model on the train data with a **validation split of 0.2, batch size = 128, verbose = 1, and epochs = 30**. \n",
    "- I'll store the model building history to use later for visualization."
   ]
  },
  {
   "cell_type": "markdown",
   "metadata": {
    "id": "y5IBLS1eKDNy"
   },
   "source": [
    "### **Building and training the second CNN model as per the above mentioned architecture.**"
   ]
  },
  {
   "cell_type": "code",
   "execution_count": null,
   "metadata": {
    "id": "Qz3O8ML27CyY"
   },
   "outputs": [],
   "source": [
    "# Define the model\n",
    "def cnn_model_2():\n",
    "    model = Sequential()\n",
    "\n",
    "    #Adding layers as per the architecture mentioned above in the same sequence\n",
    "    model.add(Conv2D(16, (3, 3), padding=\"same\", input_shape=(32, 32, 1)))\n",
    "    model.add(LeakyReLU(0.1))\n",
    "    #model.add(MaxPooling2D(2, 2))\n",
    "\n",
    "    model.add(Conv2D(32, (3, 3), padding=\"same\"))\n",
    "    model.add(LeakyReLU(0.1))\n",
    "    model.add(MaxPooling2D(2, 2))\n",
    "    model.add(BatchNormalization())\n",
    "\n",
    "    model.add(Conv2D(32, (3, 3), padding=\"same\"))\n",
    "    model.add(LeakyReLU(0.1))\n",
    "\n",
    "    model.add(Conv2D(64, (3, 3), padding=\"same\"))\n",
    "    model.add(LeakyReLU(0.1))\n",
    "    model.add(MaxPooling2D(2, 2))\n",
    "    model.add(BatchNormalization())\n",
    "\n",
    "    model.add(Flatten())\n",
    "\n",
    "    model.add(Dense(32))\n",
    "    model.add(LeakyReLU(0.1))\n",
    "    model.add(Dropout(0.5))\n",
    "\n",
    "    model.add(Dense(10, activation = 'softmax'))\n",
    "\n",
    "    # Compiling the model\n",
    "    model.compile(optimizer = Adam(learning_rate = 0.001), loss = 'categorical_crossentropy',  metrics = ['accuracy'])\n",
    "    \n",
    "    \n",
    "    return model"
   ]
  },
  {
   "cell_type": "code",
   "execution_count": null,
   "metadata": {
    "id": "soQ_mNW37CyY"
   },
   "outputs": [],
   "source": [
    "# Building the model\n",
    "cnn_model_2 = cnn_model_2()"
   ]
  },
  {
   "cell_type": "code",
   "execution_count": null,
   "metadata": {
    "colab": {
     "base_uri": "https://localhost:8080/"
    },
    "executionInfo": {
     "elapsed": 337,
     "status": "ok",
     "timestamp": 1683668604218,
     "user": {
      "displayName": "'Femi Bolarinwa",
      "userId": "04861924902875393207"
     },
     "user_tz": 240
    },
    "id": "EQ3hqzlg7CyY",
    "outputId": "86cc7d04-c1d9-43cb-c847-c38af46175ca"
   },
   "outputs": [
    {
     "name": "stdout",
     "output_type": "stream",
     "text": [
      "Model: \"sequential_2\"\n",
      "_________________________________________________________________\n",
      " Layer (type)                Output Shape              Param #   \n",
      "=================================================================\n",
      " conv2d_8 (Conv2D)           (None, 32, 32, 16)        160       \n",
      "                                                                 \n",
      " leaky_re_lu_10 (LeakyReLU)  (None, 32, 32, 16)        0         \n",
      "                                                                 \n",
      " conv2d_9 (Conv2D)           (None, 32, 32, 32)        4640      \n",
      "                                                                 \n",
      " leaky_re_lu_11 (LeakyReLU)  (None, 32, 32, 32)        0         \n",
      "                                                                 \n",
      " max_pooling2d_4 (MaxPooling  (None, 16, 16, 32)       0         \n",
      " 2D)                                                             \n",
      "                                                                 \n",
      " batch_normalization_4 (Batc  (None, 16, 16, 32)       128       \n",
      " hNormalization)                                                 \n",
      "                                                                 \n",
      " conv2d_10 (Conv2D)          (None, 16, 16, 32)        9248      \n",
      "                                                                 \n",
      " leaky_re_lu_12 (LeakyReLU)  (None, 16, 16, 32)        0         \n",
      "                                                                 \n",
      " conv2d_11 (Conv2D)          (None, 16, 16, 64)        18496     \n",
      "                                                                 \n",
      " leaky_re_lu_13 (LeakyReLU)  (None, 16, 16, 64)        0         \n",
      "                                                                 \n",
      " max_pooling2d_5 (MaxPooling  (None, 8, 8, 64)         0         \n",
      " 2D)                                                             \n",
      "                                                                 \n",
      " batch_normalization_5 (Batc  (None, 8, 8, 64)         256       \n",
      " hNormalization)                                                 \n",
      "                                                                 \n",
      " flatten_2 (Flatten)         (None, 4096)              0         \n",
      "                                                                 \n",
      " dense_4 (Dense)             (None, 32)                131104    \n",
      "                                                                 \n",
      " leaky_re_lu_14 (LeakyReLU)  (None, 32)                0         \n",
      "                                                                 \n",
      " dropout_2 (Dropout)         (None, 32)                0         \n",
      "                                                                 \n",
      " dense_5 (Dense)             (None, 10)                330       \n",
      "                                                                 \n",
      "=================================================================\n",
      "Total params: 164,362\n",
      "Trainable params: 164,170\n",
      "Non-trainable params: 192\n",
      "_________________________________________________________________\n"
     ]
    }
   ],
   "source": [
    "#model summary\n",
    "cnn_model_2.summary()"
   ]
  },
  {
   "cell_type": "code",
   "execution_count": null,
   "metadata": {
    "colab": {
     "base_uri": "https://localhost:8080/"
    },
    "executionInfo": {
     "elapsed": 4944207,
     "status": "ok",
     "timestamp": 1683673723455,
     "user": {
      "displayName": "'Femi Bolarinwa",
      "userId": "04861924902875393207"
     },
     "user_tz": 240
    },
    "id": "LRyPGCxe7CyY",
    "outputId": "cad8ef0e-370d-4b4d-f489-59f0bb19f951"
   },
   "outputs": [
    {
     "name": "stdout",
     "output_type": "stream",
     "text": [
      "Epoch 1/30\n",
      "263/263 [==============================] - 159s 598ms/step - loss: 1.3896 - accuracy: 0.5260 - val_loss: 1.7088 - val_accuracy: 0.5244\n",
      "Epoch 2/30\n",
      "263/263 [==============================] - 173s 660ms/step - loss: 0.6671 - accuracy: 0.7954 - val_loss: 0.6358 - val_accuracy: 0.8135\n",
      "Epoch 3/30\n",
      "263/263 [==============================] - 169s 642ms/step - loss: 0.5557 - accuracy: 0.8328 - val_loss: 0.5501 - val_accuracy: 0.8411\n",
      "Epoch 4/30\n",
      "263/263 [==============================] - 168s 638ms/step - loss: 0.4842 - accuracy: 0.8518 - val_loss: 0.4482 - val_accuracy: 0.8662\n",
      "Epoch 5/30\n",
      "263/263 [==============================] - 157s 597ms/step - loss: 0.4508 - accuracy: 0.8635 - val_loss: 0.4075 - val_accuracy: 0.8863\n",
      "Epoch 6/30\n",
      "263/263 [==============================] - 181s 689ms/step - loss: 0.4146 - accuracy: 0.8751 - val_loss: 0.3867 - val_accuracy: 0.8920\n",
      "Epoch 7/30\n",
      "263/263 [==============================] - 161s 611ms/step - loss: 0.3831 - accuracy: 0.8836 - val_loss: 0.4339 - val_accuracy: 0.8856\n",
      "Epoch 8/30\n",
      "263/263 [==============================] - 162s 615ms/step - loss: 0.3568 - accuracy: 0.8890 - val_loss: 0.3981 - val_accuracy: 0.8904\n",
      "Epoch 9/30\n",
      "263/263 [==============================] - 160s 609ms/step - loss: 0.3366 - accuracy: 0.8969 - val_loss: 0.3844 - val_accuracy: 0.9006\n",
      "Epoch 10/30\n",
      "263/263 [==============================] - 159s 606ms/step - loss: 0.3230 - accuracy: 0.8998 - val_loss: 0.3673 - val_accuracy: 0.9013\n",
      "Epoch 11/30\n",
      "263/263 [==============================] - 171s 648ms/step - loss: 0.3058 - accuracy: 0.9028 - val_loss: 0.3636 - val_accuracy: 0.9068\n",
      "Epoch 12/30\n",
      "263/263 [==============================] - 161s 612ms/step - loss: 0.2892 - accuracy: 0.9091 - val_loss: 0.3671 - val_accuracy: 0.9023\n",
      "Epoch 13/30\n",
      "263/263 [==============================] - 161s 614ms/step - loss: 0.2762 - accuracy: 0.9143 - val_loss: 0.3673 - val_accuracy: 0.9082\n",
      "Epoch 14/30\n",
      "263/263 [==============================] - 160s 606ms/step - loss: 0.2604 - accuracy: 0.9164 - val_loss: 0.3993 - val_accuracy: 0.9042\n",
      "Epoch 15/30\n",
      "263/263 [==============================] - 162s 618ms/step - loss: 0.2488 - accuracy: 0.9205 - val_loss: 0.4247 - val_accuracy: 0.9038\n",
      "Epoch 16/30\n",
      "263/263 [==============================] - 160s 609ms/step - loss: 0.2466 - accuracy: 0.9219 - val_loss: 0.3904 - val_accuracy: 0.8995\n",
      "Epoch 17/30\n",
      "263/263 [==============================] - 173s 659ms/step - loss: 0.2383 - accuracy: 0.9238 - val_loss: 0.3886 - val_accuracy: 0.9076\n",
      "Epoch 18/30\n",
      "263/263 [==============================] - 172s 655ms/step - loss: 0.2246 - accuracy: 0.9255 - val_loss: 0.3969 - val_accuracy: 0.9048\n",
      "Epoch 19/30\n",
      "263/263 [==============================] - 158s 601ms/step - loss: 0.2120 - accuracy: 0.9319 - val_loss: 0.3786 - val_accuracy: 0.9150\n",
      "Epoch 20/30\n",
      "263/263 [==============================] - 159s 605ms/step - loss: 0.2130 - accuracy: 0.9321 - val_loss: 0.4732 - val_accuracy: 0.9051\n",
      "Epoch 21/30\n",
      "263/263 [==============================] - 159s 605ms/step - loss: 0.2016 - accuracy: 0.9345 - val_loss: 0.3889 - val_accuracy: 0.8965\n",
      "Epoch 22/30\n",
      "263/263 [==============================] - 157s 597ms/step - loss: 0.1951 - accuracy: 0.9351 - val_loss: 0.3992 - val_accuracy: 0.9062\n",
      "Epoch 23/30\n",
      "263/263 [==============================] - 158s 599ms/step - loss: 0.1915 - accuracy: 0.9375 - val_loss: 0.5528 - val_accuracy: 0.8929\n",
      "Epoch 24/30\n",
      "263/263 [==============================] - 160s 608ms/step - loss: 0.1875 - accuracy: 0.9392 - val_loss: 0.4526 - val_accuracy: 0.9002\n",
      "Epoch 25/30\n",
      "263/263 [==============================] - 158s 601ms/step - loss: 0.1756 - accuracy: 0.9427 - val_loss: 0.4622 - val_accuracy: 0.9086\n",
      "Epoch 26/30\n",
      "263/263 [==============================] - 156s 594ms/step - loss: 0.1683 - accuracy: 0.9448 - val_loss: 0.4438 - val_accuracy: 0.9129\n",
      "Epoch 27/30\n",
      "263/263 [==============================] - 158s 600ms/step - loss: 0.1659 - accuracy: 0.9438 - val_loss: 0.4814 - val_accuracy: 0.9015\n",
      "Epoch 28/30\n",
      "263/263 [==============================] - 172s 653ms/step - loss: 0.1635 - accuracy: 0.9467 - val_loss: 0.4773 - val_accuracy: 0.9002\n",
      "Epoch 29/30\n",
      "263/263 [==============================] - 170s 644ms/step - loss: 0.1610 - accuracy: 0.9467 - val_loss: 0.4563 - val_accuracy: 0.9099\n",
      "Epoch 30/30\n",
      "263/263 [==============================] - 160s 606ms/step - loss: 0.1533 - accuracy: 0.9486 - val_loss: 0.5313 - val_accuracy: 0.9120\n"
     ]
    }
   ],
   "source": [
    "# Fitting the model\n",
    "history_cnn_model_2 = cnn_model_2.fit(X_train, y_train, validation_split = 0.2, verbose = 1, batch_size = 128, epochs = 30)"
   ]
  },
  {
   "cell_type": "markdown",
   "metadata": {
    "id": "zKCdy59GKDN1"
   },
   "source": [
    "### **Plotting the validation and training accuracies**"
   ]
  },
  {
   "cell_type": "code",
   "execution_count": null,
   "metadata": {
    "colab": {
     "base_uri": "https://localhost:8080/",
     "height": 696
    },
    "executionInfo": {
     "elapsed": 608,
     "status": "ok",
     "timestamp": 1683674167591,
     "user": {
      "displayName": "'Femi Bolarinwa",
      "userId": "04861924902875393207"
     },
     "user_tz": 240
    },
    "id": "p0JBpqI-7CyY",
    "outputId": "29ab6885-f8c7-4fe9-86c7-d62cad1f5672"
   },
   "outputs": [
    {
     "data": {
      "image/png": "[encoded data removed]",
      "text/plain": [
       "<Figure size 800x800 with 1 Axes>"
      ]
     },
     "metadata": {},
     "output_type": "display_data"
    }
   ],
   "source": [
    "# Plotting epoch accuracies\n",
    "dict_hist = history_cnn_model_2.history\n",
    "list_ep = [i for i in range(1, 31)]\n",
    "plt.figure(figsize = (8, 8))\n",
    "plt.plot(list_ep, dict_hist['accuracy'], ls = '--', label = 'accuracy')\n",
    "plt.plot(list_ep, dict_hist['val_accuracy'], ls = '--', label = 'val_accuracy')\n",
    "plt.ylabel('Accuracy')\n",
    "plt.xlabel('Epochs')\n",
    "plt.legend()\n",
    "plt.show()"
   ]
  },
  {
   "cell_type": "markdown",
   "metadata": {
    "id": "wqJXvAi87CyY"
   },
   "source": [
    "**Observations:**\n",
    "- Better accuracy than previous models\n",
    "- Took more computation time"
   ]
  },
  {
   "cell_type": "markdown",
   "metadata": {
    "id": "Zrh7kQyT7CyY"
   },
   "source": [
    "## **Predictions on the test data**\n",
    "\n",
    "- Predictions on the test set using the second CNN model.\n",
    "- and print the obtained results using the classification report and the confusion matrix."
   ]
  },
  {
   "cell_type": "markdown",
   "metadata": {
    "id": "eHCRwRbgKDN2"
   },
   "source": [
    "### **Predictions on the test data using the second CNN model.** "
   ]
  },
  {
   "cell_type": "code",
   "execution_count": null,
   "metadata": {
    "colab": {
     "base_uri": "https://localhost:8080/"
    },
    "executionInfo": {
     "elapsed": 25976,
     "status": "ok",
     "timestamp": 1683674500004,
     "user": {
      "displayName": "'Femi Bolarinwa",
      "userId": "04861924902875393207"
     },
     "user_tz": 240
    },
    "id": "RSnc1vQf7CyY",
    "outputId": "9ea4322a-e9f4-41b5-9655-76d96b26620c"
   },
   "outputs": [
    {
     "name": "stdout",
     "output_type": "stream",
     "text": [
      "563/563 [==============================] - 25s 45ms/step\n"
     ]
    }
   ],
   "source": [
    "#prediction on the test data using model_2 \n",
    "test_pred =  cnn_model_2.predict(X_test)\n",
    "test_pred = np.argmax(test_pred, axis = -1)"
   ]
  },
  {
   "cell_type": "markdown",
   "metadata": {
    "id": "DLFpL_LS7CyY"
   },
   "source": [
    "**Note:** Earlier, noticed that each entry of the target variable is a one-hot encoded vector, but to print the classification report and confusion matrix, I will convert each entry of y_test to a single label."
   ]
  },
  {
   "cell_type": "code",
   "execution_count": null,
   "metadata": {
    "colab": {
     "base_uri": "https://localhost:8080/"
    },
    "executionInfo": {
     "elapsed": 20884,
     "status": "ok",
     "timestamp": 1683674723029,
     "user": {
      "displayName": "'Femi Bolarinwa",
      "userId": "04861924902875393207"
     },
     "user_tz": 240
    },
    "id": "eYX6q4zT02zH",
    "outputId": "3bb1e43e-4987-4e1c-c6a0-90e3c23db29f"
   },
   "outputs": [
    {
     "name": "stdout",
     "output_type": "stream",
     "text": [
      "563/563 - 20s - loss: 0.5098 - accuracy: 0.9140 - 20s/epoch - 36ms/step\n"
     ]
    },
    {
     "data": {
      "text/plain": [
       "[0.5097764730453491, 0.9139999747276306]"
      ]
     },
     "execution_count": 109,
     "metadata": {},
     "output_type": "execute_result"
    }
   ],
   "source": [
    "cnn_model_2.evaluate(X_test, y_test, verbose=2) #FB"
   ]
  },
  {
   "cell_type": "code",
   "execution_count": null,
   "metadata": {
    "id": "76mmdglM7CyY"
   },
   "outputs": [],
   "source": [
    "# Converting each entry to single label from one-hot encoded vector\n",
    "y_test = np.argmax(y_test, axis = -1)"
   ]
  },
  {
   "cell_type": "code",
   "execution_count": null,
   "metadata": {
    "colab": {
     "base_uri": "https://localhost:8080/",
     "height": 769
    },
    "executionInfo": {
     "elapsed": 840,
     "status": "ok",
     "timestamp": 1683674890100,
     "user": {
      "displayName": "'Femi Bolarinwa",
      "userId": "04861924902875393207"
     },
     "user_tz": 240
    },
    "id": "pVfBgpNa7CyZ",
    "outputId": "89b74534-4d27-422c-9b81-5a54b4601828"
   },
   "outputs": [
    {
     "name": "stdout",
     "output_type": "stream",
     "text": [
      "              precision    recall  f1-score   support\n",
      "\n",
      "           0       0.94      0.94      0.94      1814\n",
      "           1       0.93      0.90      0.91      1828\n",
      "           2       0.94      0.92      0.93      1803\n",
      "           3       0.93      0.87      0.90      1719\n",
      "           4       0.92      0.93      0.93      1812\n",
      "           5       0.89      0.92      0.90      1768\n",
      "           6       0.88      0.92      0.90      1832\n",
      "           7       0.92      0.94      0.93      1808\n",
      "           8       0.91      0.89      0.90      1812\n",
      "           9       0.89      0.91      0.90      1804\n",
      "\n",
      "    accuracy                           0.91     18000\n",
      "   macro avg       0.91      0.91      0.91     18000\n",
      "weighted avg       0.91      0.91      0.91     18000\n",
      "\n"
     ]
    },
    {
     "data": {
      "image/png": "[encoded data removed]",
      "text/plain": [
       "<Figure size 800x500 with 2 Axes>"
      ]
     },
     "metadata": {},
     "output_type": "display_data"
    }
   ],
   "source": [
    "# Importing required functions\n",
    "from sklearn.metrics import classification_report\n",
    "from sklearn.metrics import confusion_matrix\n",
    "\n",
    "# Printing the classification report\n",
    "print(classification_report(y_test, test_pred))\n",
    "# Plotting the heatmap using confusion matrix\n",
    "cm = confusion_matrix(y_test, test_pred)\n",
    "plt.figure(figsize = (8, 5))\n",
    "sns.heatmap(cm, annot = True,  fmt = '.0f')\n",
    "plt.ylabel('Actual')\n",
    "plt.xlabel('Predicted')\n",
    "plt.show()"
   ]
  },
  {
   "cell_type": "markdown",
   "metadata": {
    "id": "g-v8X_LO7Cya"
   },
   "source": [
    "**Final Observations:**\n",
    "- Accuracy: 91% \n",
    "- Recall: 91%\n",
    "- Precision: 91%\n",
    "- f1-score: 91%\n",
    "- Significantly less misclassification\n",
    "- Similar accuracy on training and test dataset.\n",
    "- Great model, not overfitted."
   ]
  },
  {
   "cell_type": "markdown",
   "metadata": {
    "id": "5zAwChD_1Q33"
   },
   "source": [
    "## Conclusion and Recommendation\n",
    "- CNN appears to perform better than ANN for feature extraction and hence higher accuracy\n",
    "- However, this comes at the cost of more computational capacity requirement\n",
    "- There is always a need to balance the need for higher accuracy and cost of complex architecture and hence computation time"
   ]
  }
 ],
 "metadata": {
  "accelerator": "TPU",
  "colab": {
   "provenance": []
  },
  "kernelspec": {
   "display_name": "Python 3 (ipykernel)",
   "language": "python",
   "name": "python3"
  },
  "language_info": {
   "codemirror_mode": {
    "name": "ipython",
    "version": 3
   },
   "file_extension": ".py",
   "mimetype": "text/x-python",
   "name": "python",
   "nbconvert_exporter": "python",
   "pygments_lexer": "ipython3",
   "version": "3.9.13"
  }
 },
 "nbformat": 4,
 "nbformat_minor": 1
}
